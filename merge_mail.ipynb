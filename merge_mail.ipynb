{
 "cells": [
  {
   "cell_type": "code",
   "execution_count": 115,
   "metadata": {},
   "outputs": [],
   "source": [
    "import pandas as pd\n",
    "from datetime import datetime\n",
    "from docxtpl import DocxTemplate\n",
    "\n",
    "from docxcompose.composer import Composer\n",
    "from docx import Document\n",
    "import os"
   ]
  },
  {
   "cell_type": "code",
   "execution_count": 116,
   "metadata": {},
   "outputs": [],
   "source": [
    "doc = DocxTemplate(\"merge_mail/HO_SO_PL_PY.docx\")"
   ]
  },
  {
   "cell_type": "code",
   "execution_count": 117,
   "metadata": {},
   "outputs": [],
   "source": [
    "df = pd.read_excel(\"merge_mail/IMPOT_CHAN_CHAN_fix.xls\", dtype = {'SĐT Đăng ký': str, 'Số GTTT': str})\n",
    "df = df.dropna(subset=['SĐT Đăng ký', 'Họ tên'])\n",
    "df = df.fillna(\" \")"
   ]
  },
  {
   "cell_type": "code",
   "execution_count": 118,
   "metadata": {},
   "outputs": [],
   "source": [
    "name_col = df.columns.to_list()\n",
    "name_col = [\"_\".join(i.split(' ')) for i in name_col]\n",
    "text_col = [\" \"] * len(name_col)\n",
    "\n",
    "df.columns = name_col"
   ]
  },
  {
   "cell_type": "code",
   "execution_count": 86,
   "metadata": {},
   "outputs": [],
   "source": [
    "# my_context = dict(zip(name_col,text_col))"
   ]
  },
  {
   "cell_type": "code",
   "execution_count": null,
   "metadata": {},
   "outputs": [],
   "source": [
    "my_context"
   ]
  },
  {
   "cell_type": "code",
   "execution_count": 121,
   "metadata": {},
   "outputs": [],
   "source": [
    "for index, row in df.iterrows():\n",
    "    row_ct = [str(row[i]) for i in name_col]\n",
    "    context = dict(zip(name_col, row_ct))\n",
    "    doc.render(context)\n",
    "    if index == 0:\n",
    "        doc.save(f\"merge_mail/ho_so_{row['SĐT_Đăng_ký']}.docx\")\n",
    "        master = Document(f\"merge_mail/ho_so_{row['SĐT_Đăng_ký']}.docx\")\n",
    "        composer = Composer(master)\n",
    "        os.remove(f\"merge_mail/ho_so_{row['SĐT_Đăng_ký']}.docx\")\n",
    "    else:\n",
    "        composer.append(doc)\n",
    "    # doc.save(f\"merge_mail/ho_so_{row['SĐT_Đăng_ký']}.docx\")\n",
    "str_time = datetime.now().strftime(\"%H-%M_%d-%m-%Y\")\n",
    "composer.save(f\"merge_mail/hoso-{row['User_phát_triển_TB']}-{str_time}.docx\")"
   ]
  },
  {
   "cell_type": "code",
   "execution_count": 88,
   "metadata": {},
   "outputs": [
    {
     "data": {
      "text/plain": [
       "{'SĐT_Đăng_ký': '0867240531',\n",
       " 'Họ_tên': 'Nguyễn Như Ngọc',\n",
       " 'Giới_tính': '1',\n",
       " 'Ngày_sinh': '14/02/2002',\n",
       " 'Nơi_sinh': 'Kiên Giang',\n",
       " 'Mã_số_thuế': ' ',\n",
       " 'Tình_trạng_cư_trú': 'C',\n",
       " 'Loại_GTTT': '0',\n",
       " 'Số_GTTT': '371936551',\n",
       " 'Ngày_cấp': '27/08/2018',\n",
       " 'Nơi_cấp': 'CA Kiên Giang',\n",
       " 'Nơi_ở_hiện_tại': 'Hòa Mỹ, Hòa Hưng, Giồng Riềng, Kiên Giang',\n",
       " 'Địa_chỉ_thường_trú': 'Hòa Mỹ, Hòa Hưng, Giồng Riềng, Kiên Giang',\n",
       " 'SĐT_liên_hệ': ' ',\n",
       " 'TT_hôn_nhân': 'DT',\n",
       " 'TT_hôn_nhân_khác': ' ',\n",
       " 'Email': ' ',\n",
       " 'Nghề_nghiệp': '5',\n",
       " 'Chức_vụ': '8',\n",
       " 'User_phát_triển_TB': 'HIENNT58_KDVTPAY_VTP_HNI',\n",
       " 'Mã_công_văn/tờ_trình': ' ',\n",
       " 'Phát_hành_thẻ_vật_lý': 'K',\n",
       " 'Tên_in_trên_thẻ': ' ',\n",
       " 'Địa_chỉ': ' ',\n",
       " 'Tỉnh/TP': ' ',\n",
       " 'Quận/Huyện': ' ',\n",
       " 'Phường/Xã': ' ',\n",
       " 'SĐT_nhận_thẻ': ' ',\n",
       " 'NGAY': '14',\n",
       " 'THANG': '2',\n",
       " 'NAM': '2023',\n",
       " 'NV': 'NGUYỄN THỊ HIỀN',\n",
       " 'NV_DUYET': ' ',\n",
       " 'TEN_IN_HOA': 'NGUYỄN NHƯ NGỌC',\n",
       " 'NAM.1': '□',\n",
       " 'NU': '■',\n",
       " 'CU_TRU': '■',\n",
       " 'KHONG_CU_TRU': '□',\n",
       " 'CMT': '■',\n",
       " 'HO_CHIEU': '□',\n",
       " 'CAN_CUOC': '□',\n",
       " 'TICK_CM_KHAC': '□',\n",
       " 'CMT_KHAC': ' ',\n",
       " 'DOC_THAN': '■',\n",
       " 'KET_HON': '□',\n",
       " 'HN_KHAC': '□',\n",
       " 'NGHE_NGHIEP': 'Làm việc tự do',\n",
       " 'CHUC_VU': 'Lao động tự do',\n",
       " 'THE_VAT_LY': '□',\n",
       " '_1': ' ',\n",
       " '_2': ' ',\n",
       " '_3': ' ',\n",
       " '_4': ' ',\n",
       " '_5': ' ',\n",
       " '_6': ' ',\n",
       " '_7': ' ',\n",
       " '_8': ' ',\n",
       " '_9': ' ',\n",
       " '_10': ' ',\n",
       " '_11': ' ',\n",
       " '_12': ' ',\n",
       " '_13': ' ',\n",
       " '_14': ' ',\n",
       " '_15': ' ',\n",
       " '_16': ' ',\n",
       " '_17': ' ',\n",
       " '_18': ' ',\n",
       " '_19': ' ',\n",
       " '_20': ' ',\n",
       " '_21': ' ',\n",
       " '_22': ' ',\n",
       " '_23': ' '}"
      ]
     },
     "execution_count": 88,
     "metadata": {},
     "output_type": "execute_result"
    }
   ],
   "source": [
    "context"
   ]
  }
 ],
 "metadata": {
  "kernelspec": {
   "display_name": "venv",
   "language": "python",
   "name": "python3"
  },
  "language_info": {
   "codemirror_mode": {
    "name": "ipython",
    "version": 3
   },
   "file_extension": ".py",
   "mimetype": "text/x-python",
   "name": "python",
   "nbconvert_exporter": "python",
   "pygments_lexer": "ipython3",
   "version": "3.10.6"
  },
  "orig_nbformat": 4,
  "vscode": {
   "interpreter": {
    "hash": "39c6f5d0f5ccb2eadefa11249016843616bf1f000edaadcb364d7fc9a165439d"
   }
  }
 },
 "nbformat": 4,
 "nbformat_minor": 2
}
