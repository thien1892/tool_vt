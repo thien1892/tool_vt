{
 "cells": [
  {
   "cell_type": "code",
   "execution_count": 9,
   "metadata": {},
   "outputs": [],
   "source": [
    "import pandas as pd\n",
    "from datetime import datetime\n",
    "from docxtpl import DocxTemplate\n",
    "\n",
    "from docxcompose.composer import Composer\n",
    "from docx import Document\n",
    "import os"
   ]
  },
  {
   "cell_type": "code",
   "execution_count": 10,
   "metadata": {},
   "outputs": [],
   "source": [
    "doc = DocxTemplate(\"merge_mail/HO_SO_PL_PY.docx\")"
   ]
  },
  {
   "cell_type": "code",
   "execution_count": 11,
   "metadata": {},
   "outputs": [],
   "source": [
    "df = pd.read_excel(\"merge_mail/IMPOT_CHAN_CHAN_fix.xls\", dtype = {'SĐT Đăng ký': str, 'Số GTTT': str})\n",
    "df = df.dropna(subset=['SĐT Đăng ký', 'Họ tên'])\n",
    "df = df.fillna(\" \")"
   ]
  },
  {
   "cell_type": "code",
   "execution_count": 12,
   "metadata": {},
   "outputs": [],
   "source": [
    "name_col = df.columns.to_list()\n",
    "name_col = [\"_\".join(i.split(' ')) for i in name_col]\n",
    "text_col = [\" \"] * len(name_col)\n",
    "\n",
    "df.columns = name_col"
   ]
  },
  {
   "cell_type": "code",
   "execution_count": 86,
   "metadata": {},
   "outputs": [],
   "source": [
    "# my_context = dict(zip(name_col,text_col))"
   ]
  },
  {
   "cell_type": "code",
   "execution_count": 14,
   "metadata": {},
   "outputs": [],
   "source": [
    "for index, row in df.iterrows():\n",
    "    row_ct = [str(row[i]) for i in name_col]\n",
    "    context = dict(zip(name_col, row_ct))\n",
    "    doc.render(context)\n",
    "    if index == 0:\n",
    "        doc.save(f\"merge_mail/ho_so_{row['SĐT_Đăng_ký']}.docx\")\n",
    "        master = Document(f\"merge_mail/ho_so_{row['SĐT_Đăng_ký']}.docx\")\n",
    "        composer = Composer(master)\n",
    "        os.remove(f\"merge_mail/ho_so_{row['SĐT_Đăng_ký']}.docx\")\n",
    "    else:\n",
    "        composer.append(doc)\n",
    "    # doc.save(f\"merge_mail/ho_so_{row['SĐT_Đăng_ký']}.docx\")\n",
    "str_time = datetime.now().strftime(\"%H-%M_%d-%m-%Y\")\n",
    "composer.save(f\"merge_mail/hoso-{row['User_phát_triển_TB']}-{str_time}.docx\")"
   ]
  },
  {
   "cell_type": "code",
   "execution_count": 15,
   "metadata": {},
   "outputs": [
    {
     "data": {
      "text/plain": [
       "{'SĐT_Đăng_ký': '0862999999',\n",
       " 'Họ_tên': 'Võ Văn Thôm',\n",
       " 'Giới_tính': '0',\n",
       " 'Ngày_sinh': '05/10/1990',\n",
       " 'Nơi_sinh': 'Kiên Giang',\n",
       " 'Mã_số_thuế': ' ',\n",
       " 'Tình_trạng_cư_trú': 'C',\n",
       " 'Loại_GTTT': '0',\n",
       " 'Số_GTTT': '000333999',\n",
       " 'Ngày_cấp': '08/03/2018',\n",
       " 'Nơi_cấp': 'CA Kiên Giang',\n",
       " 'Nơi_ở_hiện_tại': 'Kiên Giang',\n",
       " 'Địa_chỉ_thường_trú': ' Kiên Giang',\n",
       " 'SĐT_liên_hệ': ' ',\n",
       " 'TT_hôn_nhân': 'DKH',\n",
       " 'TT_hôn_nhân_khác': ' ',\n",
       " 'Email': ' ',\n",
       " 'Nghề_nghiệp': '5',\n",
       " 'Chức_vụ': '8',\n",
       " 'User_phát_triển_TB': 'HIENNT',\n",
       " 'Mã_công_văn/tờ_trình': 'cho sau',\n",
       " 'Phát_hành_thẻ_vật_lý': 'K',\n",
       " 'Tên_in_trên_thẻ': ' ',\n",
       " 'Địa_chỉ': ' ',\n",
       " 'Tỉnh/TP': ' ',\n",
       " 'Quận/Huyện': ' ',\n",
       " 'Phường/Xã': ' ',\n",
       " 'SĐT_nhận_thẻ': ' ',\n",
       " 'NGAY': '14',\n",
       " 'THANG': '2',\n",
       " 'NAM': '2023',\n",
       " 'NV': 'NGUYỄN THỊ HIỀN',\n",
       " 'NV_DUYET': ' ',\n",
       " 'TEN_IN_HOA': 'VÕ VĂN THÔM',\n",
       " 'NAM1': '■',\n",
       " 'NU': '□',\n",
       " 'CU_TRU': '■',\n",
       " 'KHONG_CU_TRU': '□',\n",
       " 'CMT': '■',\n",
       " 'HO_CHIEU': '□',\n",
       " 'CAN_CUOC': '□',\n",
       " 'TICK_CM_KHAC': '□',\n",
       " 'CMT_KHAC': ' ',\n",
       " 'DOC_THAN': '□',\n",
       " 'KET_HON': '■',\n",
       " 'HN_KHAC': '□',\n",
       " 'NGHE_NGHIEP': 'Làm việc tự do',\n",
       " 'CHUC_VU': 'Lao động tự do',\n",
       " 'THE_VAT_LY': '□',\n",
       " '_1': ' ',\n",
       " '_2': ' ',\n",
       " '_3': ' ',\n",
       " '_4': ' ',\n",
       " '_5': ' ',\n",
       " '_6': ' ',\n",
       " '_7': ' ',\n",
       " '_8': ' ',\n",
       " '_9': ' ',\n",
       " '_10': ' ',\n",
       " '_11': ' ',\n",
       " '_12': ' ',\n",
       " '_13': ' ',\n",
       " '_14': ' ',\n",
       " '_15': ' ',\n",
       " '_16': ' ',\n",
       " '_17': ' ',\n",
       " '_18': ' ',\n",
       " '_19': ' ',\n",
       " '_20': ' ',\n",
       " '_21': ' ',\n",
       " '_22': ' ',\n",
       " '_23': ' '}"
      ]
     },
     "execution_count": 15,
     "metadata": {},
     "output_type": "execute_result"
    }
   ],
   "source": [
    "context"
   ]
  },
  {
   "cell_type": "code",
   "execution_count": 29,
   "metadata": {},
   "outputs": [
    {
     "data": {
      "text/plain": [
       "['1.Nhân viên văn phòng',\n",
       " '2.Bác sĩ, dược sĩ, y tá',\n",
       " '3.Công chức, viên chức',\n",
       " '4.Lực lượng vũ trang',\n",
       " '5.Làm việc tự do',\n",
       " '6.Học sinh, sinh viên',\n",
       " '7.Kỹ sư xây dựng, cơ khí',\n",
       " '8.Công nhân',\n",
       " '9.Hưu trí',\n",
       " '10.Nội trợ',\n",
       " '11.Nông dân',\n",
       " '12.Khác']"
      ]
     },
     "execution_count": 29,
     "metadata": {},
     "output_type": "execute_result"
    }
   ],
   "source": [
    "df['them'].to_list()"
   ]
  },
  {
   "cell_type": "code",
   "execution_count": 38,
   "metadata": {},
   "outputs": [
    {
     "data": {
      "text/plain": [
       "Index(['ky tu', 'khong dau'], dtype='object')"
      ]
     },
     "execution_count": 38,
     "metadata": {},
     "output_type": "execute_result"
    }
   ],
   "source": [
    "df.columns"
   ]
  },
  {
   "cell_type": "code",
   "execution_count": 40,
   "metadata": {},
   "outputs": [],
   "source": [
    "dict_khong_dau = dict(zip(df['ky tu'].to_list(),  df['khong dau'].to_list()))"
   ]
  },
  {
   "cell_type": "code",
   "execution_count": 54,
   "metadata": {},
   "outputs": [
    {
     "data": {
      "text/plain": [
       "{'Â': 'A',\n",
       " 'Ă': 'A',\n",
       " 'À': 'A',\n",
       " 'Á': 'A',\n",
       " 'Ạ': 'A',\n",
       " 'Ã': 'A',\n",
       " 'Ả': 'A',\n",
       " 'Ầ': 'A',\n",
       " 'Ấ': 'A',\n",
       " 'Ẫ': 'A',\n",
       " 'Ậ': 'A',\n",
       " 'Ẩ': 'A',\n",
       " 'Ắ': 'A',\n",
       " 'Ằ': 'A',\n",
       " 'Ẳ': 'A',\n",
       " 'Ặ': 'A',\n",
       " 'Ẵ': 'A',\n",
       " 'E': 'E',\n",
       " 'Ẽ': 'E',\n",
       " 'É': 'E',\n",
       " 'Ẹ': 'E',\n",
       " 'Ẻ': 'E',\n",
       " 'È': 'E',\n",
       " 'Ê': 'E',\n",
       " 'Ế': 'E',\n",
       " 'Ề': 'E',\n",
       " 'Ể': 'E',\n",
       " 'Ễ': 'E',\n",
       " 'Ệ': 'E',\n",
       " 'U': 'U',\n",
       " 'Ú': 'U',\n",
       " 'Ù': 'U',\n",
       " 'Ũ': 'U',\n",
       " 'Ủ': 'U',\n",
       " 'Ụ': 'U',\n",
       " 'Ư': 'U',\n",
       " 'Ứ': 'U',\n",
       " 'Ừ': 'U',\n",
       " 'Ử': 'U',\n",
       " 'Ữ': 'U',\n",
       " 'Ự': 'U',\n",
       " 'I': 'I',\n",
       " 'Í': 'I',\n",
       " 'Ì': 'I',\n",
       " 'Ỉ': 'I',\n",
       " 'Ị': 'I',\n",
       " 'Ĩ': 'I',\n",
       " 'O': 'O',\n",
       " 'Ó': 'O',\n",
       " 'Ò': 'O',\n",
       " 'Õ': 'O',\n",
       " 'Ỏ': 'O',\n",
       " 'Ọ': 'O',\n",
       " 'Ô': 'O',\n",
       " 'Ố': 'O',\n",
       " 'Ồ': 'O',\n",
       " 'Ổ': 'O',\n",
       " 'Ỗ': 'O',\n",
       " 'Ộ': 'O',\n",
       " 'Ơ': 'O',\n",
       " 'Ớ': 'O',\n",
       " 'Ờ': 'O',\n",
       " 'Ở': 'O',\n",
       " 'Ỡ': 'O',\n",
       " 'Ợ': 'O',\n",
       " 'Y': 'Y',\n",
       " 'Ý': 'Y',\n",
       " 'Ỳ': 'Y',\n",
       " 'Ỵ': 'Y',\n",
       " 'Ỹ': 'Y',\n",
       " 'Ỷ': 'Y'}"
      ]
     },
     "execution_count": 54,
     "metadata": {},
     "output_type": "execute_result"
    }
   ],
   "source": [
    "dict_khong_dau"
   ]
  },
  {
   "cell_type": "code",
   "execution_count": null,
   "metadata": {},
   "outputs": [],
   "source": [
    "'tran văn thien'"
   ]
  },
  {
   "cell_type": "code",
   "execution_count": 53,
   "metadata": {},
   "outputs": [],
   "source": [
    "def chuyen_khong_dau(text_):\n",
    "    text_ = text_.strip()\n",
    "    text_ = text_.upper()\n",
    "    text_ = text_[:23]\n",
    "    print(len(text_))\n",
    "    text_ = text_ + ' '*(23 - len(text_))\n",
    "    split_text = [i if i not in dict_khong_dau.keys() else dict_khong_dau[i] for i in text_]\n",
    "\n",
    "    return split_text"
   ]
  },
  {
   "cell_type": "code",
   "execution_count": 59,
   "metadata": {},
   "outputs": [
    {
     "data": {
      "text/plain": [
       "datetime.datetime(2023, 2, 17, 21, 39, 13, 808768)"
      ]
     },
     "execution_count": 59,
     "metadata": {},
     "output_type": "execute_result"
    }
   ],
   "source": [
    "datetime.datetime.now()"
   ]
  },
  {
   "cell_type": "code",
   "execution_count": 78,
   "metadata": {},
   "outputs": [],
   "source": [
    "def check_time_file(file_):\n",
    "    return (datetime.datetime.now() - datetime.datetime.fromtimestamp(os.path.getmtime(file_))).total_seconds() / 3600.0"
   ]
  },
  {
   "cell_type": "code",
   "execution_count": 84,
   "metadata": {},
   "outputs": [
    {
     "data": {
      "text/plain": [
       "3.936840499444444"
      ]
     },
     "execution_count": 84,
     "metadata": {},
     "output_type": "execute_result"
    }
   ],
   "source": [
    "check_time_file(\"merge_mail/hoso-HIENNT58_KDVTPAY_VTP_HNI-11-02_17-02-2023.docx\")"
   ]
  },
  {
   "cell_type": "code",
   "execution_count": 81,
   "metadata": {},
   "outputs": [],
   "source": [
    "FILE_GOC = ['merge_mail/IMPOT_CHAN_CHAN_fix.xls', 'merge_mail/HO_SO_PL_PY.docx']"
   ]
  },
  {
   "cell_type": "code",
   "execution_count": 85,
   "metadata": {},
   "outputs": [
    {
     "name": "stdout",
     "output_type": "stream",
     "text": [
      "remve merge_mail/hoso-HIENNT58_KDVTPAY_VTP_HNI-11-02_17-02-2023.docx\n",
      "remve merge_mail/hoso-HIENNT58_KDVTPAY_VTP_HNI-11-02_17-02-2023.docx:Zone.Identifier\n"
     ]
    }
   ],
   "source": [
    "DANH_SACH_FILE = glob.glob('merge_mail/*.*')\n",
    "for file_ in DANH_SACH_FILE:\n",
    "    if file_ not in FILE_GOC:\n",
    "        if check_time_file(file_) > 3:\n",
    "            os.remove(file_)\n",
    "            print(f'remve {file_}')"
   ]
  },
  {
   "cell_type": "code",
   "execution_count": 76,
   "metadata": {},
   "outputs": [],
   "source": [
    "a = datetime.datetime.now() - datetime.datetime.fromtimestamp(os.path.getmtime(\"app/app.py\"))"
   ]
  },
  {
   "cell_type": "code",
   "execution_count": 77,
   "metadata": {},
   "outputs": [
    {
     "data": {
      "text/plain": [
       "228.414479"
      ]
     },
     "execution_count": 77,
     "metadata": {},
     "output_type": "execute_result"
    }
   ],
   "source": [
    "a.total_seconds()"
   ]
  },
  {
   "cell_type": "code",
   "execution_count": 70,
   "metadata": {},
   "outputs": [
    {
     "data": {
      "text/plain": [
       "['merge_mail/IMPOT_CHAN_CHAN_fix.xls', 'merge_mail/HO_SO_PL_PY.docx']"
      ]
     },
     "execution_count": 70,
     "metadata": {},
     "output_type": "execute_result"
    }
   ],
   "source": [
    "import glob\n",
    "glob.glob('merge_mail/*.*')"
   ]
  },
  {
   "cell_type": "code",
   "execution_count": 65,
   "metadata": {},
   "outputs": [
    {
     "data": {
      "text/plain": [
       "datetime.timedelta(seconds=32334, microseconds=913094)"
      ]
     },
     "execution_count": 65,
     "metadata": {},
     "output_type": "execute_result"
    }
   ],
   "source": [
    "a"
   ]
  },
  {
   "cell_type": "code",
   "execution_count": 68,
   "metadata": {},
   "outputs": [
    {
     "data": {
      "text/plain": [
       "8.0"
      ]
     },
     "execution_count": 68,
     "metadata": {},
     "output_type": "execute_result"
    }
   ],
   "source": [
    "a.total_seconds() // 3660"
   ]
  },
  {
   "cell_type": "code",
   "execution_count": null,
   "metadata": {},
   "outputs": [],
   "source": [
    "datetime.datetime.now() - datetime.datetime.fromtimestamp(os.path.getmtime(\"merge_mail/HO_SO_PL_PY.docx\"))"
   ]
  },
  {
   "cell_type": "code",
   "execution_count": 37,
   "metadata": {},
   "outputs": [
    {
     "data": {
      "text/html": [
       "<div>\n",
       "<style scoped>\n",
       "    .dataframe tbody tr th:only-of-type {\n",
       "        vertical-align: middle;\n",
       "    }\n",
       "\n",
       "    .dataframe tbody tr th {\n",
       "        vertical-align: top;\n",
       "    }\n",
       "\n",
       "    .dataframe thead th {\n",
       "        text-align: right;\n",
       "    }\n",
       "</style>\n",
       "<table border=\"1\" class=\"dataframe\">\n",
       "  <thead>\n",
       "    <tr style=\"text-align: right;\">\n",
       "      <th></th>\n",
       "      <th>ky tu</th>\n",
       "      <th>khong dau</th>\n",
       "    </tr>\n",
       "  </thead>\n",
       "  <tbody>\n",
       "    <tr>\n",
       "      <th>0</th>\n",
       "      <td>Â</td>\n",
       "      <td>A</td>\n",
       "    </tr>\n",
       "    <tr>\n",
       "      <th>1</th>\n",
       "      <td>Ă</td>\n",
       "      <td>A</td>\n",
       "    </tr>\n",
       "    <tr>\n",
       "      <th>2</th>\n",
       "      <td>À</td>\n",
       "      <td>A</td>\n",
       "    </tr>\n",
       "    <tr>\n",
       "      <th>3</th>\n",
       "      <td>Á</td>\n",
       "      <td>A</td>\n",
       "    </tr>\n",
       "    <tr>\n",
       "      <th>4</th>\n",
       "      <td>Ạ</td>\n",
       "      <td>A</td>\n",
       "    </tr>\n",
       "    <tr>\n",
       "      <th>...</th>\n",
       "      <td>...</td>\n",
       "      <td>...</td>\n",
       "    </tr>\n",
       "    <tr>\n",
       "      <th>66</th>\n",
       "      <td>Ý</td>\n",
       "      <td>Y</td>\n",
       "    </tr>\n",
       "    <tr>\n",
       "      <th>67</th>\n",
       "      <td>Ỳ</td>\n",
       "      <td>Y</td>\n",
       "    </tr>\n",
       "    <tr>\n",
       "      <th>68</th>\n",
       "      <td>Ỵ</td>\n",
       "      <td>Y</td>\n",
       "    </tr>\n",
       "    <tr>\n",
       "      <th>69</th>\n",
       "      <td>Ỹ</td>\n",
       "      <td>Y</td>\n",
       "    </tr>\n",
       "    <tr>\n",
       "      <th>70</th>\n",
       "      <td>Ỷ</td>\n",
       "      <td>Y</td>\n",
       "    </tr>\n",
       "  </tbody>\n",
       "</table>\n",
       "<p>71 rows × 2 columns</p>\n",
       "</div>"
      ],
      "text/plain": [
       "   ky tu khong dau\n",
       "0      Â         A\n",
       "1      Ă         A\n",
       "2      À         A\n",
       "3      Á         A\n",
       "4      Ạ         A\n",
       "..   ...       ...\n",
       "66     Ý         Y\n",
       "67     Ỳ         Y\n",
       "68     Ỵ         Y\n",
       "69     Ỹ         Y\n",
       "70     Ỷ         Y\n",
       "\n",
       "[71 rows x 2 columns]"
      ]
     },
     "execution_count": 37,
     "metadata": {},
     "output_type": "execute_result"
    }
   ],
   "source": [
    "df = pd.read_excel(\"merge_mail/IMPOT_CHAN_CHAN_fix.xls\", sheet_name= 1, usecols= 'H,I')\n",
    "df = df.dropna()\n",
    "# df['Mã nghề nghiệp'] = df['Mã nghề nghiệp'].map(lambda x: str(int(x)))\n",
    "\n",
    "# df['them'] = df['Mã nghề nghiệp'] + '.' + df['Nghề nghiệp']\n",
    "df"
   ]
  },
  {
   "cell_type": "code",
   "execution_count": 32,
   "metadata": {},
   "outputs": [],
   "source": [
    "CONTENT_UP.update({'SĐT_Đăng_ký': '1465',\n",
    "    'Họ_tên': 'sadas'})"
   ]
  },
  {
   "cell_type": "code",
   "execution_count": 34,
   "metadata": {},
   "outputs": [
    {
     "data": {
      "text/plain": [
       "'THIEN ADASA'"
      ]
     },
     "execution_count": 34,
     "metadata": {},
     "output_type": "execute_result"
    }
   ],
   "source": [
    "'thien adasa'.upper()"
   ]
  },
  {
   "cell_type": "code",
   "execution_count": 36,
   "metadata": {},
   "outputs": [
    {
     "data": {
      "text/plain": [
       "datetime.datetime(2023, 2, 17, 20, 24, 39, 489319)"
      ]
     },
     "execution_count": 36,
     "metadata": {},
     "output_type": "execute_result"
    }
   ],
   "source": [
    "import datetime\n",
    "\n",
    "datetime.datetime.now()"
   ]
  },
  {
   "cell_type": "code",
   "execution_count": 33,
   "metadata": {},
   "outputs": [
    {
     "data": {
      "text/plain": [
       "{'SĐT_Đăng_ký': '1465',\n",
       " 'Họ_tên': 'sadas',\n",
       " 'Ngày_sinh': ' ',\n",
       " 'Nơi_sinh': ' ',\n",
       " 'Số_GTTT': ' ',\n",
       " 'Ngày_cấp': ' ',\n",
       " 'Nơi_cấp': ' ',\n",
       " 'Nơi_ở_hiện_tại': ' ',\n",
       " 'Địa_chỉ_thường_trú': ' ',\n",
       " 'SĐT_liên_hệ': ' ',\n",
       " 'Email': ' ',\n",
       " 'User_phát_triển_TB': ' ',\n",
       " 'Địa_chỉ': ' ',\n",
       " 'NGAY': ' ',\n",
       " 'THANG': ' ',\n",
       " 'NAM': ' ',\n",
       " 'NV': ' ',\n",
       " 'NAM1': '□',\n",
       " 'NU': '□',\n",
       " 'CU_TRU': '□',\n",
       " 'KHONG_CU_TRU': '□',\n",
       " 'CMT': '□',\n",
       " 'HO_CHIEU': '□',\n",
       " 'CAN_CUOC': '□',\n",
       " 'TICK_CM_KHAC': '□',\n",
       " 'CMT_KHAC': ' ',\n",
       " 'DOC_THAN': '□',\n",
       " 'KET_HON': '□',\n",
       " 'HN_KHAC': '□',\n",
       " 'NGHE_NGHIEP': 'Làm việc tự do',\n",
       " 'CHUC_VU': 'Lao động tự do',\n",
       " 'THE_VAT_LY': '□',\n",
       " '_1': ' ',\n",
       " '_2': ' ',\n",
       " '_3': ' ',\n",
       " '_4': ' ',\n",
       " '_5': ' ',\n",
       " '_6': ' ',\n",
       " '_7': ' ',\n",
       " '_8': ' ',\n",
       " '_9': ' ',\n",
       " '_10': ' ',\n",
       " '_11': ' ',\n",
       " '_12': ' ',\n",
       " '_13': ' ',\n",
       " '_14': ' ',\n",
       " '_15': ' ',\n",
       " '_16': ' ',\n",
       " '_17': ' ',\n",
       " '_18': ' ',\n",
       " '_19': ' ',\n",
       " '_20': ' ',\n",
       " '_21': ' ',\n",
       " '_22': ' ',\n",
       " '_23': ' '}"
      ]
     },
     "execution_count": 33,
     "metadata": {},
     "output_type": "execute_result"
    }
   ],
   "source": [
    "CONTENT_UP"
   ]
  },
  {
   "cell_type": "code",
   "execution_count": 30,
   "metadata": {},
   "outputs": [],
   "source": [
    "CONTENT_UP = {'SĐT_Đăng_ký': ' ',\n",
    "    'Họ_tên': ' ',\n",
    "    # 'Giới_tính': '0',\n",
    "    'Ngày_sinh': ' ',\n",
    "    'Nơi_sinh': ' ',\n",
    "    # 'Mã_số_thuế': ' ',\n",
    "    # 'Tình_trạng_cư_trú': 'C',\n",
    "    # 'Loại_GTTT': '0',\n",
    "    'Số_GTTT': ' ',\n",
    "    'Ngày_cấp': ' ',\n",
    "    'Nơi_cấp': ' ',\n",
    "    'Nơi_ở_hiện_tại': ' ',\n",
    "    'Địa_chỉ_thường_trú': ' ',\n",
    "    'SĐT_liên_hệ': ' ',\n",
    "    # 'TT_hôn_nhân': 'DKH',\n",
    "    # 'TT_hôn_nhân_khác': ' ',\n",
    "    'Email': ' ',\n",
    "    # 'Nghề_nghiệp': '5',\n",
    "    # 'Chức_vụ': '8',\n",
    "    'User_phát_triển_TB': ' ',\n",
    "    # 'Mã_công_văn/tờ_trình': 'cho sau',\n",
    "    # 'Phát_hành_thẻ_vật_lý': 'K',\n",
    "    # 'Tên_in_trên_thẻ': ' ',\n",
    "    'Địa_chỉ': ' ',\n",
    "    # 'Tỉnh/TP': ' ',\n",
    "    # 'Quận/Huyện': ' ',\n",
    "    # 'Phường/Xã': ' ',\n",
    "    # 'SĐT_nhận_thẻ': ' ',\n",
    "    'NGAY': ' ',\n",
    "    'THANG': ' ',\n",
    "    'NAM': ' ',\n",
    "    'NV': ' ',\n",
    "    # 'NV_DUYET': ' ',\n",
    "    # 'TEN_IN_HOA': 'VÕ VĂN THÔM',\n",
    "    'NAM1': '□',\n",
    "    'NU': '□',\n",
    "    'CU_TRU': '□',\n",
    "    'KHONG_CU_TRU': '□',\n",
    "    'CMT': '□',\n",
    "    'HO_CHIEU': '□',\n",
    "    'CAN_CUOC': '□',\n",
    "    'TICK_CM_KHAC': '□',\n",
    "    'CMT_KHAC': ' ',\n",
    "    'DOC_THAN': '□',\n",
    "    'KET_HON': '□',\n",
    "    'HN_KHAC': '□',\n",
    "    'NGHE_NGHIEP': 'Làm việc tự do',\n",
    "    'CHUC_VU': 'Lao động tự do',\n",
    "    'THE_VAT_LY': '□',\n",
    "    '_1': ' ',\n",
    "    '_2': ' ',\n",
    "    '_3': ' ',\n",
    "    '_4': ' ',\n",
    "    '_5': ' ',\n",
    "    '_6': ' ',\n",
    "    '_7': ' ',\n",
    "    '_8': ' ',\n",
    "    '_9': ' ',\n",
    "    '_10': ' ',\n",
    "    '_11': ' ',\n",
    "    '_12': ' ',\n",
    "    '_13': ' ',\n",
    "    '_14': ' ',\n",
    "    '_15': ' ',\n",
    "    '_16': ' ',\n",
    "    '_17': ' ',\n",
    "    '_18': ' ',\n",
    "    '_19': ' ',\n",
    "    '_20': ' ',\n",
    "    '_21': ' ',\n",
    "    '_22': ' ',\n",
    "    '_23': ' '}"
   ]
  }
 ],
 "metadata": {
  "kernelspec": {
   "display_name": "venv",
   "language": "python",
   "name": "python3"
  },
  "language_info": {
   "codemirror_mode": {
    "name": "ipython",
    "version": 3
   },
   "file_extension": ".py",
   "mimetype": "text/x-python",
   "name": "python",
   "nbconvert_exporter": "python",
   "pygments_lexer": "ipython3",
   "version": "3.10.6"
  },
  "orig_nbformat": 4,
  "vscode": {
   "interpreter": {
    "hash": "39c6f5d0f5ccb2eadefa11249016843616bf1f000edaadcb364d7fc9a165439d"
   }
  }
 },
 "nbformat": 4,
 "nbformat_minor": 2
}
