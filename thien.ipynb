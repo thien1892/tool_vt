{
 "cells": [
  {
   "cell_type": "code",
   "execution_count": null,
   "metadata": {},
   "outputs": [],
   "source": [
    "from PyPDF2 import PdfReader, PdfWriter\n",
    "\n",
    "reader = PdfReader(\"file_/Cum 8_HD Pro_Chu Van Duong.pdf\")\n",
    "writer = PdfWriter()\n",
    "\n",
    "for page in reader.pages:\n",
    "    writer.add_page(page)\n",
    "\n",
    "writer.add_metadata(reader.metadata)\n",
    "\n",
    "with open(\"file_/smaller_Cum 8_HD Pro_Chu Van Duong.pdf\", \"wb\") as fp:\n",
    "    writer.write(fp)"
   ]
  },
  {
   "cell_type": "code",
   "execution_count": null,
   "metadata": {},
   "outputs": [],
   "source": [
    "from PyPDF2 import PdfReader, PdfWriter\n",
    "\n",
    "reader = PdfReader(\"file_/Cum 8_HD Pro_Chu Van Duong.pdf\")\n",
    "writer = PdfWriter()\n",
    "\n",
    "for page in reader.pages:\n",
    "    page.compressContentStreams(compress=True, compression_level=6)  # This is CPU intensive!\n",
    "    writer.add_page(page)\n",
    "\n",
    "with open(\"file_/small_Cum 8_HD Pro_Chu Van Duong.pdf\", \"wb\") as f:\n",
    "    writer.write(f)"
   ]
  },
  {
   "cell_type": "code",
   "execution_count": null,
   "metadata": {},
   "outputs": [],
   "source": []
  }
 ],
 "metadata": {
  "kernelspec": {
   "display_name": "venv",
   "language": "python",
   "name": "python3"
  },
  "language_info": {
   "codemirror_mode": {
    "name": "ipython",
    "version": 3
   },
   "file_extension": ".py",
   "mimetype": "text/x-python",
   "name": "python",
   "nbconvert_exporter": "python",
   "pygments_lexer": "ipython3",
   "version": "3.10.6"
  },
  "orig_nbformat": 4,
  "vscode": {
   "interpreter": {
    "hash": "39c6f5d0f5ccb2eadefa11249016843616bf1f000edaadcb364d7fc9a165439d"
   }
  }
 },
 "nbformat": 4,
 "nbformat_minor": 2
}
